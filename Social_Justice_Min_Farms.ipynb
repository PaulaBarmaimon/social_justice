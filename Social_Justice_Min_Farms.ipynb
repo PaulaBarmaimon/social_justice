{
 "cells": [
  {
   "cell_type": "code",
   "execution_count": 1,
   "metadata": {
    "collapsed": true
   },
   "outputs": [],
   "source": [
    "import numpy as np\n",
    "import pandas as pd\n",
    "import plotly\n",
    "import ipywidgets as widgets\n",
    "from ipywidgets import interact\n",
    "from gurobipy import *\n",
    "from scipy.spatial import distance\n",
    "import matplotlib.pyplot as plt\n",
    "import random\n",
    "from random import choices\n",
    "from math import radians, cos, sin, asin, sqrt"
   ]
  },
  {
   "cell_type": "code",
   "execution_count": 2,
   "metadata": {},
   "outputs": [
    {
     "name": "stdout",
     "output_type": "stream",
     "text": [
      "Please choose your Insitution\n"
     ]
    },
    {
     "data": {
      "application/vnd.jupyter.widget-view+json": {
       "model_id": "11db3c608159485d84f8f4d5d46d0295",
       "version_major": 2,
       "version_minor": 0
      },
      "text/plain": [
       "A Jupyter Widget"
      ]
     },
     "metadata": {},
     "output_type": "display_data"
    },
    {
     "name": "stdout",
     "output_type": "stream",
     "text": [
      "Please enter your order\n"
     ]
    },
    {
     "data": {
      "application/vnd.jupyter.widget-view+json": {
       "model_id": "12fceaa3c1df4325ad0e4e3a22f33a14",
       "version_major": 2,
       "version_minor": 0
      },
      "text/plain": [
       "A Jupyter Widget"
      ]
     },
     "metadata": {},
     "output_type": "display_data"
    }
   ],
   "source": [
    "#choose your insitution\n",
    "print('Please choose your Insitution')\n",
    "institutions = ['Vassar College', 'Bard College', 'SUNY New Paltz', 'Woodland Pond']\n",
    "farms = ['Hearty Roots Community Farm', 'Taliaferro Farms', 'Alewife Farm', 'Poughkeepsie Farm Project', 'Sparrowbush Farm',\n",
    "        'Evolutionary Organics', 'Huguenot Street Farm', 'Letterbox Farm', 'Second Wind CSA', 'Solid Ground Farm']\n",
    "inst_dropdown = widgets.Dropdown(options = institutions)\n",
    "display(inst_dropdown)\n",
    "\n",
    "#choose demand of insitution\n",
    "options=list(range(10))\n",
    "\n",
    "widget1 = widgets.Dropdown(options = options)\n",
    "widget2 = widgets.Dropdown(options = options)\n",
    "widget3 = widgets.Dropdown(options = options)\n",
    "widget4 = widgets.Dropdown(options = options)\n",
    "widget5 = widgets.Dropdown(options = options)\n",
    "widget6 = widgets.Dropdown(options = options)             \n",
    "\n",
    "def printer(tomatoes, beans, cucumber, zucchini, lettuce, squash):\n",
    "    print(tomatoes, beans, cucumber, zucchini, lettuce, squash)    \n",
    "\n",
    "print('Please enter your order')\n",
    "interact(printer, tomatoes = widget1,\n",
    "                beans = widget2,\n",
    "                cucumber = widget3, \n",
    "                zucchini = widget4, \n",
    "                lettuce = widget5,\n",
    "                squash = widget6);\n"
   ]
  },
  {
   "cell_type": "code",
   "execution_count": 3,
   "metadata": {},
   "outputs": [
    {
     "name": "stdout",
     "output_type": "stream",
     "text": [
      "Insitution: Vassar College\n",
      "Demand:[[9], [9], [9], [1000], [1000], [1000]]\n"
     ]
    }
   ],
   "source": [
    "#save institution\n",
    "institution = inst_dropdown.value\n",
    "print('Insitution: '+ str(institution))\n",
    "\n",
    "#save demand\n",
    "demand_array = [widget1.value, widget2.value, widget3.value, widget4.value, widget5.value, widget6.value]\n",
    "demand = []\n",
    "for widget in range(len(demand_array)):\n",
    "    inter = []\n",
    "    #demand = list(widget)\n",
    "    if demand_array[widget] > 0:\n",
    "        inter.append(demand_array[widget])\n",
    "        demand.append(inter)\n",
    "    else:\n",
    "        inter.append(1000)\n",
    "        demand.append(inter)\n",
    "print('Demand:' + str(demand))\n",
    "\n"
   ]
  },
  {
   "cell_type": "code",
   "execution_count": 4,
   "metadata": {
    "collapsed": true
   },
   "outputs": [],
   "source": [
    "no_facilities = 10\n",
    "no_customers = 4\n",
    "products = ['tomatoes', 'beans', 'cucumbers', 'zucchini', 'lettuce', 'squash']\n",
    "population = list(range(10))\n",
    "weights = [0.4, 0.2, 0.1, 0.1, 0.05, 0.05, 0.025, 0.025, 0.025, 0.025]"
   ]
  },
  {
   "cell_type": "code",
   "execution_count": 5,
   "metadata": {
    "collapsed": true
   },
   "outputs": [],
   "source": [
    "def initializeData( inputFile ):\n",
    "    file = open( inputFile , \"r\" )\n",
    "    contents = file.readlines()\n",
    "    length = len( contents )\n",
    "    table = [ 0 for i in range( length )]\n",
    "    for i in range( length ):\n",
    "        table[ i ] = contents[ i ].split()\n",
    "    noFarms_ = int( table[ 0 ][ 0 ] )\n",
    "    noInst_ = int( table[ 0 ][ 1 ] )\n",
    "    \n",
    "    lineNo = 1\n",
    "    coordinates_farms_ = [ [ 0 for n in range(2) ] for i in range( noFarms_) ]\n",
    "    for i in range( noFarms_ ):\n",
    "        coordinates_farms_[ i ][ 0 ] = float( table[ lineNo ][ 0 ] )\n",
    "        coordinates_farms_[ i ][ 1 ] = float( table[ lineNo ][ 1 ] )\n",
    "        lineNo += 1\n",
    "\n",
    "    #rand = random.randint(0,3)\n",
    "    coordinates_inst_ = [ 0 for n in range(2)  ]\n",
    "    coordinates_inst_[ 0 ] = float( table[ lineNo + institutions.index(institution) ][ 0 ] )\n",
    "    coordinates_inst_[ 1 ] = float( table[ lineNo + institutions.index(institution) ][ 1 ] )\n",
    "    \n",
    "    return ( noFarms_ , coordinates_farms_, coordinates_inst_)\n",
    "\n",
    "def dist_matrix():\n",
    "    global noFarms, coordinates_farms, coordinates_inst\n",
    "    dist_matrix_ = [0 for i in range(noFarms)]\n",
    "    for i in range(noFarms):    \n",
    "        # convert decimal degrees to radians \n",
    "        lon1, lat1, lon2, lat2 = map(radians, [coordinates_farms[i][1], coordinates_farms[i][0], coordinates_inst[1], coordinates_inst[0]])\n",
    "        # haversine formula \n",
    "        dlon = lon2 - lon1 \n",
    "        dlat = lat2 - lat1 \n",
    "        a = sin(dlat/2)**2 + cos(lat1) * cos(lat2) * sin(dlon/2)**2\n",
    "        c = 2 * asin(sqrt(a)) \n",
    "        # Radius of earth in kilometers is 6371\n",
    "        d = 6371* c\n",
    "        dist_matrix_[i] = d\n",
    "\n",
    "    return dist_matrix_\n",
    "\n",
    "def create_supply_matrix ():\n",
    "    global noFarms, coordinates_farms, coordinates_inst\n",
    "    supply_matrix_ = [[0 for j in range(noFarms)] for i in range(len(products))]\n",
    "    for i in range(len(products)):\n",
    "        for j in range(noFarms):    \n",
    "            rand = choices(population, weights) \n",
    "            supply_matrix_[i][j] = rand\n",
    "    return supply_matrix_\n",
    "\n",
    "def create_coverage_matrix():\n",
    "    global noFarms, coordinates_farms, coordinates_inst\n",
    "    coverage_matrix_ = [[0 for j in range(noFarms)] for i in range(len(products))]\n",
    "    for i in range(len(products)):\n",
    "        for j in range(noFarms):  \n",
    "            #if demand for the product is greater than 0\n",
    "            if demand_matrix[i][0] > 0: \n",
    "                if supply_matrix[i][j] >= demand_matrix[i]:\n",
    "                    coverage_matrix_[i][j] = 1\n",
    "    return coverage_matrix_\n",
    "\n",
    "#plot graph\n",
    "def plot (noFarms , coordinates_farms, coordinates_inst, vars_matrix):\n",
    "    plt.figure(figsize = (10,10))\n",
    "    for i in range(noFarms):\n",
    "        plt.plot(coordinates_farms[i][0], coordinates_farms[i][1], 'ro', color = 'green', lw = 9)\n",
    "        plt.text(coordinates_farms[i][0] + 0.005, coordinates_farms[i][1] + 0.005, farms[i], fontsize=12)\n",
    "\n",
    "    plt.plot(coordinates_inst[0], coordinates_inst[1], 'ro', color = 'red', lw = 9)\n",
    "    plt.text(coordinates_inst[0] + 0.01, coordinates_inst[1], institution, color = 'red', fontsize=12)\n",
    "\n",
    "    \n",
    "    for i in range(len(products)):\n",
    "        for j in range(noFarms): \n",
    "            if vars_matrix[i][j] == 1:\n",
    "                x_values = [coordinates_farms[j][0], coordinates_inst[0]]\n",
    "                y_values = [coordinates_farms[j][1], coordinates_inst[1]]\n",
    "                plt.plot(x_values, y_values)\n",
    "    plt.title('Farms delivering')\n",
    "    plt.xlabel('Latitude')\n",
    "    plt.ylabel('Longitude')\n",
    "    plt.draw()\n",
    "    plt.savefig('social_justice_map3.png')\n",
    "    plt.pause(0.001)\n",
    "\n",
    "#farms supplying and total distance\n",
    "def stats (vars_matrix, demand_matrix):\n",
    "    global products, noFarms\n",
    "    farms_supplying_ = []\n",
    "    products_supplied_ = []\n",
    "    unique_farms_supplying_ = []\n",
    "    for i in range(len(products)):\n",
    "        for j in range(noFarms): \n",
    "            if vars_matrix[i][j] == 1:\n",
    "                farms_supplying_.append(j)\n",
    "                products_supplied_.append(i)\n",
    "                if j not in unique_farms_supplying_:\n",
    "                    unique_farms_supplying_.append(j)\n",
    "\n",
    "       \n",
    "    farms_supplying_names_ = []\n",
    "    for farm in farms_supplying_:\n",
    "        farms_supplying_names_.append(farms[farm])\n",
    "\n",
    "    total_distance_ = 0\n",
    "    for i in unique_farms_supplying_:\n",
    "        total_distance_ += distance_matrix[i]\n",
    "    \n",
    "    prod_not_supplied_ = []\n",
    "    for prod in range(len(products)):\n",
    "        if prod not in products_supplied_:\n",
    "            if demand_matrix[prod][0] != 1000:\n",
    "                prod_not_supplied_.append(prod)\n",
    "\n",
    "    return farms_supplying_, products_supplied_, total_distance_ , unique_farms_supplying_, prod_not_supplied_, farms_supplying_names_\n"
   ]
  },
  {
   "cell_type": "code",
   "execution_count": 6,
   "metadata": {
    "collapsed": true
   },
   "outputs": [],
   "source": [
    "#construct model\n",
    "def constructVars(ipModel, xVars, yVars):\n",
    "    global noFarms, products\n",
    "    for i in range(len(products)):\n",
    "        for j in range(noFarms):  \n",
    "            var = ipModel.addVar(vtype = GRB.BINARY, name = \"x_product_\" + str(i)+ \"_farm_\" + str(j))\n",
    "            xVars[i][j] = var\n",
    "\n",
    "    for j in range(noFarms):  \n",
    "            var2 = ipModel.addVar(vtype = GRB.BINARY, name = \"y_farm_\" + str(j))\n",
    "            yVars[j] = var2\n",
    "    \n",
    "    ipModel.update()\n",
    "\n",
    "#max number of farms\n",
    "def constructObj(ipModel, yVars):\n",
    "    global noFarms, products, coverage_matrix\n",
    "    objExpr = LinExpr()\n",
    "    for j in range(noFarms):  \n",
    "        objExpr += yVars[j]\n",
    "    ipModel.setObjective(objExpr, GRB.MINIMIZE)\n",
    "    ipModel.update()\n",
    "\n",
    "#only one farm supplies each product\n",
    "def constructConstr(ipModel, xVars, yVars):\n",
    "    global noFarms, products, coverage_matrix\n",
    "    for i in range(len(products)):\n",
    "        constrExpr = LinExpr()\n",
    "        for j in range(noFarms):\n",
    "            constrExpr += 1*xVars[i][j]*coverage_matrix[i][j]\n",
    "        ipModel.addConstr(lhs = constrExpr, sense = GRB.LESS_EQUAL, rhs = 1, name = \"product_\" + str(i))\n",
    "\n",
    "    for j in range(noFarms):\n",
    "        constrExpr = LinExpr()\n",
    "        constrExpr += 100*yVars[j]\n",
    "        for i in range(len(products)):\n",
    "            constrExpr -= 1*xVars[i][j]*coverage_matrix[i][j]\n",
    "        ipModel.addConstr(lhs = constrExpr, sense = GRB.GREATER_EQUAL, rhs = 0, name = \"farm_\" + str(j) + \"_supplying\")\n",
    "    \n",
    "    for i in range(len(products)):\n",
    "        constrExpr = LinExpr()\n",
    "        for j in range(noFarms):\n",
    "            constrExpr += coverage_matrix[i][j]\n",
    "            constrExpr -= 100*xVars[i][j]*coverage_matrix[i][j]\n",
    "        ipModel.addConstr(lhs = constrExpr, sense = GRB.LESS_EQUAL, rhs = 0, name = \"demand_\" + str(products[i]))\n",
    "        \n",
    "    for i in range(len(products)):\n",
    "        for j in range(noFarms):\n",
    "            constrExpr = LinExpr()\n",
    "            constrExpr += xVars[i][j]\n",
    "            constrExpr -= coverage_matrix[i][j] \n",
    "            ipModel.addConstr(lhs = constrExpr, sense = GRB.LESS_EQUAL, rhs = 0, name = \"x_product_\" + str(i)+ \"_farm_\" + str(j) + \"_less_equal_coverage\" )\n",
    "\n",
    "    "
   ]
  },
  {
   "cell_type": "code",
   "execution_count": 7,
   "metadata": {
    "scrolled": false
   },
   "outputs": [
    {
     "name": "stdout",
     "output_type": "stream",
     "text": [
      "Academic license - for non-commercial use only\n",
      "Optimize a model with 82 rows, 70 columns and 70 nonzeros\n",
      "Variable types: 0 continuous, 70 integer (70 binary)\n",
      "Coefficient statistics:\n",
      "  Matrix range     [1e+00, 1e+02]\n",
      "  Objective range  [1e+00, 1e+00]\n",
      "  Bounds range     [1e+00, 1e+00]\n",
      "  RHS range        [1e+00, 1e+00]\n",
      "Found heuristic solution: objective 0.0000000\n",
      "\n",
      "Explored 0 nodes (0 simplex iterations) in 0.07 seconds\n",
      "Thread count was 1 (of 4 available processors)\n",
      "\n",
      "Solution count 1: 0 \n",
      "\n",
      "Optimal solution found (tolerance 1.00e-04)\n",
      "Best objective 0.000000000000e+00, best bound 0.000000000000e+00, gap 0.0000%\n"
     ]
    },
    {
     "data": {
      "image/png": "[encoded data removed]",
      "text/plain": [
       "<matplotlib.figure.Figure at 0x111e9fb00>"
      ]
     },
     "metadata": {},
     "output_type": "display_data"
    },
    {
     "name": "stdout",
     "output_type": "stream",
     "text": [
      "Run number 0\n",
      "vars_matrix [[-0.0, -0.0, -0.0, -0.0, -0.0, -0.0, -0.0, -0.0, -0.0, -0.0], [-0.0, -0.0, -0.0, -0.0, -0.0, -0.0, -0.0, -0.0, -0.0, -0.0], [-0.0, -0.0, -0.0, -0.0, -0.0, -0.0, -0.0, -0.0, -0.0, -0.0], [-0.0, -0.0, -0.0, -0.0, -0.0, -0.0, -0.0, -0.0, -0.0, -0.0], [-0.0, -0.0, -0.0, -0.0, -0.0, -0.0, -0.0, -0.0, -0.0, -0.0], [-0.0, -0.0, -0.0, -0.0, -0.0, -0.0, -0.0, -0.0, -0.0, -0.0]]\n",
      "Distance matrix <function dist_matrix at 0x111dfbf28>\n",
      "Demand matrix [[9], [9], [9], [1000], [1000], [1000]]\n",
      "Supply matrix [[[2], [5], [2], [1], [0], [2], [2], [3], [0], [0]], [[1], [5], [0], [5], [2], [3], [6], [0], [0], [0]], [[3], [4], [1], [0], [0], [0], [5], [0], [1], [0]], [[0], [0], [0], [0], [0], [8], [0], [0], [1], [1]], [[8], [0], [5], [0], [1], [6], [0], [2], [9], [0]], [[3], [6], [0], [8], [1], [0], [6], [1], [0], [3]]]\n",
      "Coverage matrix [[0, 0, 0, 0, 0, 0, 0, 0, 0, 0], [0, 0, 0, 0, 0, 0, 0, 0, 0, 0], [0, 0, 0, 0, 0, 0, 0, 0, 0, 0], [0, 0, 0, 0, 0, 0, 0, 0, 0, 0], [0, 0, 0, 0, 0, 0, 0, 0, 0, 0], [0, 0, 0, 0, 0, 0, 0, 0, 0, 0]]\n",
      "Farms supplying []\n",
      "\u001b[4mShopping List\u001b[0m\n",
      "\n",
      "\u001b[4mProducts out of Stock\u001b[0m\n",
      "tomatoes\n",
      "beans\n",
      "cucumbers\n",
      "\n",
      "Number of farms supplying 0\n",
      "Total Distance (km) 0\n"
     ]
    }
   ],
   "source": [
    "\n",
    "inFile = \"social_justice_1.txt\"\n",
    "noFarms, coordinates_farms, coordinates_inst = initializeData( inFile )\n",
    "distance_matrix = dist_matrix ()\n",
    "\n",
    "for round in range(1):\n",
    "    demand_matrix = demand\n",
    "    supply_matrix = create_supply_matrix ()\n",
    "    coverage_matrix = create_coverage_matrix ()\n",
    "\n",
    "    ipModel = Model(\"social_justice\")\n",
    "    xVars = [[0 for  i in range(noFarms)] for p in range(len(products))]\n",
    "    yVars = [0 for  i in range(noFarms)]\n",
    "    constructVars(ipModel, xVars, yVars)\n",
    "    constructObj(ipModel, yVars)\n",
    "    constructConstr(ipModel, xVars, yVars)\n",
    "    ipModel.write('social_justice_min_farms_demo.lp')\n",
    "    ipModel.optimize()\n",
    "\n",
    "    myVars = ipModel.getVars()\n",
    "    for curVar in myVars:\n",
    "        if curVar.x >0:\n",
    "            print( curVar.varName + \" \" + str( curVar.x))\n",
    "    vars_list = []\n",
    "    for curVar in myVars:\n",
    "        vars_list.append(float(curVar.x))\n",
    "\n",
    "    vars_matrix = [[0 for j in range(noFarms)] for i in range(len(products))]\n",
    "    count = 0\n",
    "    for i in range(len(products)):\n",
    "        for j in range(noFarms): \n",
    "            vars_matrix[i][j] = vars_list[count]\n",
    "            count +=1\n",
    "\n",
    "    plot (noFarms, coordinates_farms, coordinates_inst, vars_matrix)\n",
    "    farms_supplying, products_supplied, total_distance, unique_farms_supplying, prod_not_supplied, farms_supplying_names = stats (vars_matrix, demand_matrix)\n",
    "            \n",
    "        \n",
    "    print('Run number ' + str(round))\n",
    "    print('vars_matrix ' + str(vars_matrix))\n",
    "    print('Distance matrix ' + str(dist_matrix))\n",
    "    print('Demand matrix ' + str(demand_matrix))\n",
    "    print('Supply matrix ' + str(supply_matrix))\n",
    "    print('Coverage matrix ' + str(coverage_matrix))\n",
    "    print('Farms supplying ' + str(farms_supplying))\n",
    "    \n",
    "    print('\\033[4mShopping List\\033[0m')\n",
    "    for i in range(len(farms_supplying)):\n",
    "        print('Farm ' + str(farms[farms_supplying[i]]) + ': ' + str(demand[products_supplied[i]][0]) + ' cases of ' + str(products[products_supplied[i]]))\n",
    "    print('')\n",
    "    \n",
    "    if len(prod_not_supplied) != 0:\n",
    "        print('\\033[4mProducts out of Stock\\033[0m')\n",
    "        for i in prod_not_supplied:\n",
    "            print(products[i])\n",
    "        print('')\n",
    "    \n",
    "    print('Number of farms supplying ' + str(len(unique_farms_supplying)))\n",
    "    print('Total Distance (km) ' + str(total_distance))\n",
    "   "
   ]
  },
  {
   "cell_type": "code",
   "execution_count": null,
   "metadata": {
    "collapsed": true
   },
   "outputs": [],
   "source": []
  },
  {
   "cell_type": "code",
   "execution_count": null,
   "metadata": {
    "collapsed": true
   },
   "outputs": [],
   "source": []
  }
 ],
 "metadata": {
  "kernelspec": {
   "display_name": "Python 3",
   "language": "python",
   "name": "python3"
  },
  "language_info": {
   "codemirror_mode": {
    "name": "ipython",
    "version": 3
   },
   "file_extension": ".py",
   "mimetype": "text/x-python",
   "name": "python",
   "nbconvert_exporter": "python",
   "pygments_lexer": "ipython3",
   "version": "3.6.3"
  }
 },
 "nbformat": 4,
 "nbformat_minor": 4
}
